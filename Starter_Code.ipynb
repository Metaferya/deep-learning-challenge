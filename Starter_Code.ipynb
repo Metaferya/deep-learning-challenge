{
 "cells": [
  {
   "cell_type": "markdown",
   "metadata": {},
   "source": [
    "## Preprocessing"
   ]
  },
  {
   "cell_type": "code",
   "execution_count": 40,
   "metadata": {},
   "outputs": [
    {
     "data": {
      "text/html": [
       "<div>\n",
       "<style scoped>\n",
       "    .dataframe tbody tr th:only-of-type {\n",
       "        vertical-align: middle;\n",
       "    }\n",
       "\n",
       "    .dataframe tbody tr th {\n",
       "        vertical-align: top;\n",
       "    }\n",
       "\n",
       "    .dataframe thead th {\n",
       "        text-align: right;\n",
       "    }\n",
       "</style>\n",
       "<table border=\"1\" class=\"dataframe\">\n",
       "  <thead>\n",
       "    <tr style=\"text-align: right;\">\n",
       "      <th></th>\n",
       "      <th>EIN</th>\n",
       "      <th>NAME</th>\n",
       "      <th>APPLICATION_TYPE</th>\n",
       "      <th>AFFILIATION</th>\n",
       "      <th>CLASSIFICATION</th>\n",
       "      <th>USE_CASE</th>\n",
       "      <th>ORGANIZATION</th>\n",
       "      <th>STATUS</th>\n",
       "      <th>INCOME_AMT</th>\n",
       "      <th>SPECIAL_CONSIDERATIONS</th>\n",
       "      <th>ASK_AMT</th>\n",
       "      <th>IS_SUCCESSFUL</th>\n",
       "    </tr>\n",
       "  </thead>\n",
       "  <tbody>\n",
       "    <tr>\n",
       "      <th>0</th>\n",
       "      <td>10520599</td>\n",
       "      <td>BLUE KNIGHTS MOTORCYCLE CLUB</td>\n",
       "      <td>T10</td>\n",
       "      <td>Independent</td>\n",
       "      <td>C1000</td>\n",
       "      <td>ProductDev</td>\n",
       "      <td>Association</td>\n",
       "      <td>1</td>\n",
       "      <td>0</td>\n",
       "      <td>N</td>\n",
       "      <td>5000</td>\n",
       "      <td>1</td>\n",
       "    </tr>\n",
       "    <tr>\n",
       "      <th>1</th>\n",
       "      <td>10531628</td>\n",
       "      <td>AMERICAN CHESAPEAKE CLUB CHARITABLE TR</td>\n",
       "      <td>T3</td>\n",
       "      <td>Independent</td>\n",
       "      <td>C2000</td>\n",
       "      <td>Preservation</td>\n",
       "      <td>Co-operative</td>\n",
       "      <td>1</td>\n",
       "      <td>1-9999</td>\n",
       "      <td>N</td>\n",
       "      <td>108590</td>\n",
       "      <td>1</td>\n",
       "    </tr>\n",
       "    <tr>\n",
       "      <th>2</th>\n",
       "      <td>10547893</td>\n",
       "      <td>ST CLOUD PROFESSIONAL FIREFIGHTERS</td>\n",
       "      <td>T5</td>\n",
       "      <td>CompanySponsored</td>\n",
       "      <td>C3000</td>\n",
       "      <td>ProductDev</td>\n",
       "      <td>Association</td>\n",
       "      <td>1</td>\n",
       "      <td>0</td>\n",
       "      <td>N</td>\n",
       "      <td>5000</td>\n",
       "      <td>0</td>\n",
       "    </tr>\n",
       "    <tr>\n",
       "      <th>3</th>\n",
       "      <td>10553066</td>\n",
       "      <td>SOUTHSIDE ATHLETIC ASSOCIATION</td>\n",
       "      <td>T3</td>\n",
       "      <td>CompanySponsored</td>\n",
       "      <td>C2000</td>\n",
       "      <td>Preservation</td>\n",
       "      <td>Trust</td>\n",
       "      <td>1</td>\n",
       "      <td>10000-24999</td>\n",
       "      <td>N</td>\n",
       "      <td>6692</td>\n",
       "      <td>1</td>\n",
       "    </tr>\n",
       "    <tr>\n",
       "      <th>4</th>\n",
       "      <td>10556103</td>\n",
       "      <td>GENETIC RESEARCH INSTITUTE OF THE DESERT</td>\n",
       "      <td>T3</td>\n",
       "      <td>Independent</td>\n",
       "      <td>C1000</td>\n",
       "      <td>Heathcare</td>\n",
       "      <td>Trust</td>\n",
       "      <td>1</td>\n",
       "      <td>100000-499999</td>\n",
       "      <td>N</td>\n",
       "      <td>142590</td>\n",
       "      <td>1</td>\n",
       "    </tr>\n",
       "  </tbody>\n",
       "</table>\n",
       "</div>"
      ],
      "text/plain": [
       "        EIN                                      NAME APPLICATION_TYPE  \\\n",
       "0  10520599              BLUE KNIGHTS MOTORCYCLE CLUB              T10   \n",
       "1  10531628    AMERICAN CHESAPEAKE CLUB CHARITABLE TR               T3   \n",
       "2  10547893        ST CLOUD PROFESSIONAL FIREFIGHTERS               T5   \n",
       "3  10553066            SOUTHSIDE ATHLETIC ASSOCIATION               T3   \n",
       "4  10556103  GENETIC RESEARCH INSTITUTE OF THE DESERT               T3   \n",
       "\n",
       "        AFFILIATION CLASSIFICATION      USE_CASE  ORGANIZATION  STATUS  \\\n",
       "0       Independent          C1000    ProductDev   Association       1   \n",
       "1       Independent          C2000  Preservation  Co-operative       1   \n",
       "2  CompanySponsored          C3000    ProductDev   Association       1   \n",
       "3  CompanySponsored          C2000  Preservation         Trust       1   \n",
       "4       Independent          C1000     Heathcare         Trust       1   \n",
       "\n",
       "      INCOME_AMT SPECIAL_CONSIDERATIONS  ASK_AMT  IS_SUCCESSFUL  \n",
       "0              0                      N     5000              1  \n",
       "1         1-9999                      N   108590              1  \n",
       "2              0                      N     5000              0  \n",
       "3    10000-24999                      N     6692              1  \n",
       "4  100000-499999                      N   142590              1  "
      ]
     },
     "execution_count": 40,
     "metadata": {},
     "output_type": "execute_result"
    }
   ],
   "source": [
    "# Import our dependencies\n",
    "from sklearn.model_selection import train_test_split\n",
    "from sklearn.preprocessing import StandardScaler\n",
    "import pandas as pd\n",
    "import tensorflow as tf\n",
    "\n",
    "# Import pandas and read the charity_data.csv from the provided cloud URL.\n",
    "import pandas as pd\n",
    "application_df = pd.read_csv(\"https://static.bc-edx.com/data/dl-1-2/m21/lms/starter/charity_data.csv\")\n",
    "application_df.head()"
   ]
  },
  {
   "cell_type": "code",
   "execution_count": 41,
   "metadata": {},
   "outputs": [],
   "source": [
    "# Drop the non-beneficial ID columns, 'EIN' and 'NAME'.\n",
    "application_df = application_df.drop(columns=['EIN', 'NAME'])"
   ]
  },
  {
   "cell_type": "code",
   "execution_count": 42,
   "metadata": {},
   "outputs": [
    {
     "name": "stdout",
     "output_type": "stream",
     "text": [
      "APPLICATION_TYPE            17\n",
      "AFFILIATION                  6\n",
      "CLASSIFICATION              71\n",
      "USE_CASE                     5\n",
      "ORGANIZATION                 4\n",
      "STATUS                       2\n",
      "INCOME_AMT                   9\n",
      "SPECIAL_CONSIDERATIONS       2\n",
      "ASK_AMT                   8747\n",
      "IS_SUCCESSFUL                2\n",
      "dtype: int64\n"
     ]
    }
   ],
   "source": [
    "# Determine the number of unique values in each column.\n",
    "unique_values = application_df.nunique()\n",
    "print(unique_values)"
   ]
  },
  {
   "cell_type": "code",
   "execution_count": 43,
   "metadata": {},
   "outputs": [
    {
     "name": "stdout",
     "output_type": "stream",
     "text": [
      "APPLICATION_TYPE\n",
      "T3     27037\n",
      "T4      1542\n",
      "T6      1216\n",
      "T5      1173\n",
      "T19     1065\n",
      "T8       737\n",
      "T7       725\n",
      "T10      528\n",
      "T9       156\n",
      "T13       66\n",
      "T12       27\n",
      "T2        16\n",
      "T25        3\n",
      "T14        3\n",
      "T29        2\n",
      "T15        2\n",
      "T17        1\n",
      "Name: count, dtype: int64\n"
     ]
    }
   ],
   "source": [
    "# Look at APPLICATION_TYPE value counts to identify and replace with \"Other\"\n",
    "application_type_counts = application_df['APPLICATION_TYPE'].value_counts()\n",
    "print(application_type_counts)"
   ]
  },
  {
   "cell_type": "code",
   "execution_count": 44,
   "metadata": {},
   "outputs": [
    {
     "data": {
      "text/plain": [
       "APPLICATION_TYPE\n",
       "T3       27037\n",
       "T4        1542\n",
       "T6        1216\n",
       "T5        1173\n",
       "T19       1065\n",
       "T8         737\n",
       "T7         725\n",
       "T10        528\n",
       "Other      276\n",
       "Name: count, dtype: int64"
      ]
     },
     "execution_count": 44,
     "metadata": {},
     "output_type": "execute_result"
    }
   ],
   "source": [
    "# Choose a cutoff value and create a list of application types to be replaced\n",
    "# use the variable name `application_types_to_replace`\n",
    "application_types_to_replace = list(application_type_counts[application_type_counts < 500].index)\n",
    "\n",
    "# Replace in dataframe\n",
    "for app in application_types_to_replace:\n",
    "    application_df['APPLICATION_TYPE'] = application_df['APPLICATION_TYPE'].replace(app,\"Other\")\n",
    "\n",
    "# Check to make sure replacement was successful\n",
    "application_df['APPLICATION_TYPE'].value_counts()"
   ]
  },
  {
   "cell_type": "code",
   "execution_count": 45,
   "metadata": {},
   "outputs": [
    {
     "name": "stdout",
     "output_type": "stream",
     "text": [
      "CLASSIFICATION\n",
      "C1000    17326\n",
      "C2000     6074\n",
      "C1200     4837\n",
      "C3000     1918\n",
      "C2100     1883\n",
      "         ...  \n",
      "C1248        1\n",
      "C6100        1\n",
      "C1820        1\n",
      "C1900        1\n",
      "C2150        1\n",
      "Name: count, Length: 71, dtype: int64\n"
     ]
    }
   ],
   "source": [
    "# Look at CLASSIFICATION value counts to identify and replace with \"Other\"\n",
    "classification_counts = application_df['CLASSIFICATION'].value_counts()\n",
    "print(classification_counts)"
   ]
  },
  {
   "cell_type": "code",
   "execution_count": 46,
   "metadata": {},
   "outputs": [
    {
     "name": "stdout",
     "output_type": "stream",
     "text": [
      "CLASSIFICATION\n",
      "C1000    17326\n",
      "C2000     6074\n",
      "C1200     4837\n",
      "C3000     1918\n",
      "C2100     1883\n",
      "C7000      777\n",
      "C1700      287\n",
      "C4000      194\n",
      "C5000      116\n",
      "C1270      114\n",
      "C2700      104\n",
      "C2800       95\n",
      "C7100       75\n",
      "C1300       58\n",
      "C1280       50\n",
      "C1230       36\n",
      "C1400       34\n",
      "C7200       32\n",
      "C2300       32\n",
      "C1240       30\n",
      "C8000       20\n",
      "C7120       18\n",
      "C1500       16\n",
      "C6000       15\n",
      "C1800       15\n",
      "C1250       14\n",
      "C8200       11\n",
      "C1238       10\n",
      "C1278       10\n",
      "C1237        9\n",
      "C1235        9\n",
      "C7210        7\n",
      "C1720        6\n",
      "C2400        6\n",
      "C4100        6\n",
      "C1257        5\n",
      "C1600        5\n",
      "C1260        3\n",
      "C2710        3\n",
      "C0           3\n",
      "C3200        2\n",
      "C1256        2\n",
      "C1246        2\n",
      "C1234        2\n",
      "C1267        2\n",
      "Name: count, dtype: int64\n"
     ]
    }
   ],
   "source": [
    "# You may find it helpful to look at CLASSIFICATION value counts >1\n",
    "classification_counts = application_df['CLASSIFICATION'].value_counts()\n",
    "print(classification_counts[classification_counts > 1])"
   ]
  },
  {
   "cell_type": "code",
   "execution_count": 47,
   "metadata": {},
   "outputs": [
    {
     "data": {
      "text/plain": [
       "CLASSIFICATION\n",
       "C1000    17326\n",
       "C2000     6074\n",
       "C1200     4837\n",
       "Other     2261\n",
       "C3000     1918\n",
       "C2100     1883\n",
       "Name: count, dtype: int64"
      ]
     },
     "execution_count": 47,
     "metadata": {},
     "output_type": "execute_result"
    }
   ],
   "source": [
    "# Choose a cutoff value and create a list of classifications to be replaced\n",
    "# use the variable name `classifications_to_replace`\n",
    "classifications_to_replace = list(classification_counts[classification_counts < 1000].index)\n",
    "\n",
    "# Replace in dataframe\n",
    "for cls in classifications_to_replace:\n",
    "    application_df['CLASSIFICATION'] = application_df['CLASSIFICATION'].replace(cls,\"Other\")\n",
    "\n",
    "# Check to make sure replacement was successful\n",
    "application_df['CLASSIFICATION'].value_counts()"
   ]
  },
  {
   "cell_type": "code",
   "execution_count": 48,
   "metadata": {},
   "outputs": [],
   "source": [
    "# Convert categorical data to numeric with `pd.get_dummies`\n",
    "application_df = pd.get_dummies(application_df)"
   ]
  },
  {
   "cell_type": "code",
   "execution_count": 49,
   "metadata": {},
   "outputs": [],
   "source": [
    "# Split our preprocessed data into our features and target arrays\n",
    "X = application_df.drop(columns=['IS_SUCCESSFUL']).values\n",
    "y = application_df['IS_SUCCESSFUL'].values\n",
    "# Split the preprocessed data into a training and testing dataset\n",
    "X_train, X_test, y_train, y_test = train_test_split(X, y, test_size=0.2, random_state=42)"
   ]
  },
  {
   "cell_type": "code",
   "execution_count": 50,
   "metadata": {},
   "outputs": [],
   "source": [
    "# Create a StandardScaler instances\n",
    "scaler = StandardScaler()\n",
    "\n",
    "# Fit the StandardScaler\n",
    "X_scaler = scaler.fit(X_train)\n",
    "\n",
    "# Scale the data\n",
    "X_train_scaled = X_scaler.transform(X_train)\n",
    "X_test_scaled = X_scaler.transform(X_test)"
   ]
  },
  {
   "cell_type": "markdown",
   "metadata": {},
   "source": [
    "## Compile, Train and Evaluate the Model"
   ]
  },
  {
   "cell_type": "code",
   "execution_count": 51,
   "metadata": {},
   "outputs": [
    {
     "name": "stderr",
     "output_type": "stream",
     "text": [
      "c:\\Users\\fitse\\anaconda3\\envs\\fitenv\\lib\\site-packages\\keras\\src\\layers\\core\\dense.py:87: UserWarning: Do not pass an `input_shape`/`input_dim` argument to a layer. When using Sequential models, prefer using an `Input(shape)` object as the first layer in the model instead.\n",
      "  super().__init__(activity_regularizer=activity_regularizer, **kwargs)\n"
     ]
    },
    {
     "data": {
      "text/html": [
       "<pre style=\"white-space:pre;overflow-x:auto;line-height:normal;font-family:Menlo,'DejaVu Sans Mono',consolas,'Courier New',monospace\"><span style=\"font-weight: bold\">Model: \"sequential_2\"</span>\n",
       "</pre>\n"
      ],
      "text/plain": [
       "\u001b[1mModel: \"sequential_2\"\u001b[0m\n"
      ]
     },
     "metadata": {},
     "output_type": "display_data"
    },
    {
     "data": {
      "text/html": [
       "<pre style=\"white-space:pre;overflow-x:auto;line-height:normal;font-family:Menlo,'DejaVu Sans Mono',consolas,'Courier New',monospace\">┏━━━━━━━━━━━━━━━━━━━━━━━━━━━━━━━━━┳━━━━━━━━━━━━━━━━━━━━━━━━┳━━━━━━━━━━━━━━━┓\n",
       "┃<span style=\"font-weight: bold\"> Layer (type)                    </span>┃<span style=\"font-weight: bold\"> Output Shape           </span>┃<span style=\"font-weight: bold\">       Param # </span>┃\n",
       "┡━━━━━━━━━━━━━━━━━━━━━━━━━━━━━━━━━╇━━━━━━━━━━━━━━━━━━━━━━━━╇━━━━━━━━━━━━━━━┩\n",
       "│ dense_6 (<span style=\"color: #0087ff; text-decoration-color: #0087ff\">Dense</span>)                 │ (<span style=\"color: #00d7ff; text-decoration-color: #00d7ff\">None</span>, <span style=\"color: #00af00; text-decoration-color: #00af00\">80</span>)             │         <span style=\"color: #00af00; text-decoration-color: #00af00\">3,520</span> │\n",
       "├─────────────────────────────────┼────────────────────────┼───────────────┤\n",
       "│ dense_7 (<span style=\"color: #0087ff; text-decoration-color: #0087ff\">Dense</span>)                 │ (<span style=\"color: #00d7ff; text-decoration-color: #00d7ff\">None</span>, <span style=\"color: #00af00; text-decoration-color: #00af00\">30</span>)             │         <span style=\"color: #00af00; text-decoration-color: #00af00\">2,430</span> │\n",
       "├─────────────────────────────────┼────────────────────────┼───────────────┤\n",
       "│ dense_8 (<span style=\"color: #0087ff; text-decoration-color: #0087ff\">Dense</span>)                 │ (<span style=\"color: #00d7ff; text-decoration-color: #00d7ff\">None</span>, <span style=\"color: #00af00; text-decoration-color: #00af00\">1</span>)              │            <span style=\"color: #00af00; text-decoration-color: #00af00\">31</span> │\n",
       "└─────────────────────────────────┴────────────────────────┴───────────────┘\n",
       "</pre>\n"
      ],
      "text/plain": [
       "┏━━━━━━━━━━━━━━━━━━━━━━━━━━━━━━━━━┳━━━━━━━━━━━━━━━━━━━━━━━━┳━━━━━━━━━━━━━━━┓\n",
       "┃\u001b[1m \u001b[0m\u001b[1mLayer (type)                   \u001b[0m\u001b[1m \u001b[0m┃\u001b[1m \u001b[0m\u001b[1mOutput Shape          \u001b[0m\u001b[1m \u001b[0m┃\u001b[1m \u001b[0m\u001b[1m      Param #\u001b[0m\u001b[1m \u001b[0m┃\n",
       "┡━━━━━━━━━━━━━━━━━━━━━━━━━━━━━━━━━╇━━━━━━━━━━━━━━━━━━━━━━━━╇━━━━━━━━━━━━━━━┩\n",
       "│ dense_6 (\u001b[38;5;33mDense\u001b[0m)                 │ (\u001b[38;5;45mNone\u001b[0m, \u001b[38;5;34m80\u001b[0m)             │         \u001b[38;5;34m3,520\u001b[0m │\n",
       "├─────────────────────────────────┼────────────────────────┼───────────────┤\n",
       "│ dense_7 (\u001b[38;5;33mDense\u001b[0m)                 │ (\u001b[38;5;45mNone\u001b[0m, \u001b[38;5;34m30\u001b[0m)             │         \u001b[38;5;34m2,430\u001b[0m │\n",
       "├─────────────────────────────────┼────────────────────────┼───────────────┤\n",
       "│ dense_8 (\u001b[38;5;33mDense\u001b[0m)                 │ (\u001b[38;5;45mNone\u001b[0m, \u001b[38;5;34m1\u001b[0m)              │            \u001b[38;5;34m31\u001b[0m │\n",
       "└─────────────────────────────────┴────────────────────────┴───────────────┘\n"
      ]
     },
     "metadata": {},
     "output_type": "display_data"
    },
    {
     "data": {
      "text/html": [
       "<pre style=\"white-space:pre;overflow-x:auto;line-height:normal;font-family:Menlo,'DejaVu Sans Mono',consolas,'Courier New',monospace\"><span style=\"font-weight: bold\"> Total params: </span><span style=\"color: #00af00; text-decoration-color: #00af00\">5,981</span> (23.36 KB)\n",
       "</pre>\n"
      ],
      "text/plain": [
       "\u001b[1m Total params: \u001b[0m\u001b[38;5;34m5,981\u001b[0m (23.36 KB)\n"
      ]
     },
     "metadata": {},
     "output_type": "display_data"
    },
    {
     "data": {
      "text/html": [
       "<pre style=\"white-space:pre;overflow-x:auto;line-height:normal;font-family:Menlo,'DejaVu Sans Mono',consolas,'Courier New',monospace\"><span style=\"font-weight: bold\"> Trainable params: </span><span style=\"color: #00af00; text-decoration-color: #00af00\">5,981</span> (23.36 KB)\n",
       "</pre>\n"
      ],
      "text/plain": [
       "\u001b[1m Trainable params: \u001b[0m\u001b[38;5;34m5,981\u001b[0m (23.36 KB)\n"
      ]
     },
     "metadata": {},
     "output_type": "display_data"
    },
    {
     "data": {
      "text/html": [
       "<pre style=\"white-space:pre;overflow-x:auto;line-height:normal;font-family:Menlo,'DejaVu Sans Mono',consolas,'Courier New',monospace\"><span style=\"font-weight: bold\"> Non-trainable params: </span><span style=\"color: #00af00; text-decoration-color: #00af00\">0</span> (0.00 B)\n",
       "</pre>\n"
      ],
      "text/plain": [
       "\u001b[1m Non-trainable params: \u001b[0m\u001b[38;5;34m0\u001b[0m (0.00 B)\n"
      ]
     },
     "metadata": {},
     "output_type": "display_data"
    }
   ],
   "source": [
    "# Define the model - deep neural net, i.e., the number of input features and hidden nodes for each layer.\n",
    "nn = tf.keras.models.Sequential()\n",
    "\n",
    "# First hidden layer\n",
    "nn.add(tf.keras.layers.Dense(units=80, activation='relu', input_dim=X_train.shape[1]))\n",
    "\n",
    "# Second hidden layer\n",
    "nn.add(tf.keras.layers.Dense(units=30, activation='relu'))\n",
    "\n",
    "# Output layer\n",
    "nn.add(tf.keras.layers.Dense(units=1, activation='sigmoid'))\n",
    "\n",
    "# Check the structure of the model\n",
    "nn.summary()"
   ]
  },
  {
   "cell_type": "code",
   "execution_count": 52,
   "metadata": {},
   "outputs": [],
   "source": [
    "# Compile the model\n",
    "nn.compile(loss='binary_crossentropy', optimizer='adam', metrics=['accuracy'])"
   ]
  },
  {
   "cell_type": "code",
   "execution_count": 53,
   "metadata": {},
   "outputs": [
    {
     "name": "stdout",
     "output_type": "stream",
     "text": [
      "Epoch 1/100\n",
      "858/858 - 2s - 2ms/step - accuracy: 0.7204 - loss: 0.5699\n",
      "Epoch 2/100\n",
      "858/858 - 2s - 2ms/step - accuracy: 0.7301 - loss: 0.5530\n",
      "Epoch 3/100\n",
      "858/858 - 1s - 1ms/step - accuracy: 0.7308 - loss: 0.5516\n",
      "Epoch 4/100\n",
      "858/858 - 1s - 1ms/step - accuracy: 0.7322 - loss: 0.5495\n",
      "Epoch 5/100\n",
      "858/858 - 1s - 1ms/step - accuracy: 0.7315 - loss: 0.5477\n",
      "Epoch 6/100\n",
      "858/858 - 1s - 2ms/step - accuracy: 0.7323 - loss: 0.5471\n",
      "Epoch 7/100\n",
      "858/858 - 2s - 2ms/step - accuracy: 0.7338 - loss: 0.5463\n",
      "Epoch 8/100\n",
      "858/858 - 1s - 1ms/step - accuracy: 0.7338 - loss: 0.5459\n",
      "Epoch 9/100\n",
      "858/858 - 1s - 2ms/step - accuracy: 0.7332 - loss: 0.5450\n",
      "Epoch 10/100\n",
      "858/858 - 1s - 1ms/step - accuracy: 0.7349 - loss: 0.5445\n",
      "Epoch 11/100\n",
      "858/858 - 1s - 1ms/step - accuracy: 0.7335 - loss: 0.5444\n",
      "Epoch 12/100\n",
      "858/858 - 1s - 2ms/step - accuracy: 0.7341 - loss: 0.5442\n",
      "Epoch 13/100\n",
      "858/858 - 1s - 1ms/step - accuracy: 0.7350 - loss: 0.5434\n",
      "Epoch 14/100\n",
      "858/858 - 1s - 1ms/step - accuracy: 0.7349 - loss: 0.5426\n",
      "Epoch 15/100\n",
      "858/858 - 2s - 2ms/step - accuracy: 0.7358 - loss: 0.5426\n",
      "Epoch 16/100\n",
      "858/858 - 1s - 1ms/step - accuracy: 0.7351 - loss: 0.5419\n",
      "Epoch 17/100\n",
      "858/858 - 1s - 1ms/step - accuracy: 0.7361 - loss: 0.5421\n",
      "Epoch 18/100\n",
      "858/858 - 1s - 2ms/step - accuracy: 0.7365 - loss: 0.5413\n",
      "Epoch 19/100\n",
      "858/858 - 1s - 1ms/step - accuracy: 0.7372 - loss: 0.5406\n",
      "Epoch 20/100\n",
      "858/858 - 1s - 2ms/step - accuracy: 0.7369 - loss: 0.5415\n",
      "Epoch 21/100\n",
      "858/858 - 1s - 1ms/step - accuracy: 0.7369 - loss: 0.5413\n",
      "Epoch 22/100\n",
      "858/858 - 1s - 1ms/step - accuracy: 0.7370 - loss: 0.5406\n",
      "Epoch 23/100\n",
      "858/858 - 2s - 2ms/step - accuracy: 0.7370 - loss: 0.5405\n",
      "Epoch 24/100\n",
      "858/858 - 1s - 1ms/step - accuracy: 0.7368 - loss: 0.5402\n",
      "Epoch 25/100\n",
      "858/858 - 1s - 1ms/step - accuracy: 0.7372 - loss: 0.5402\n",
      "Epoch 26/100\n",
      "858/858 - 1s - 1ms/step - accuracy: 0.7382 - loss: 0.5399\n",
      "Epoch 27/100\n",
      "858/858 - 1s - 1ms/step - accuracy: 0.7376 - loss: 0.5393\n",
      "Epoch 28/100\n",
      "858/858 - 1s - 2ms/step - accuracy: 0.7384 - loss: 0.5395\n",
      "Epoch 29/100\n",
      "858/858 - 1s - 1ms/step - accuracy: 0.7381 - loss: 0.5391\n",
      "Epoch 30/100\n",
      "858/858 - 1s - 1ms/step - accuracy: 0.7376 - loss: 0.5394\n",
      "Epoch 31/100\n",
      "858/858 - 1s - 1ms/step - accuracy: 0.7368 - loss: 0.5396\n",
      "Epoch 32/100\n",
      "858/858 - 1s - 1ms/step - accuracy: 0.7378 - loss: 0.5388\n",
      "Epoch 33/100\n",
      "858/858 - 2s - 2ms/step - accuracy: 0.7373 - loss: 0.5387\n",
      "Epoch 34/100\n",
      "858/858 - 1s - 1ms/step - accuracy: 0.7373 - loss: 0.5389\n",
      "Epoch 35/100\n",
      "858/858 - 1s - 1ms/step - accuracy: 0.7379 - loss: 0.5387\n",
      "Epoch 36/100\n",
      "858/858 - 1s - 1ms/step - accuracy: 0.7374 - loss: 0.5386\n",
      "Epoch 37/100\n",
      "858/858 - 1s - 1ms/step - accuracy: 0.7380 - loss: 0.5387\n",
      "Epoch 38/100\n",
      "858/858 - 2s - 2ms/step - accuracy: 0.7386 - loss: 0.5379\n",
      "Epoch 39/100\n",
      "858/858 - 1s - 1ms/step - accuracy: 0.7381 - loss: 0.5379\n",
      "Epoch 40/100\n",
      "858/858 - 1s - 1ms/step - accuracy: 0.7381 - loss: 0.5384\n",
      "Epoch 41/100\n",
      "858/858 - 1s - 2ms/step - accuracy: 0.7377 - loss: 0.5378\n",
      "Epoch 42/100\n",
      "858/858 - 1s - 1ms/step - accuracy: 0.7377 - loss: 0.5384\n",
      "Epoch 43/100\n",
      "858/858 - 1s - 2ms/step - accuracy: 0.7380 - loss: 0.5376\n",
      "Epoch 44/100\n",
      "858/858 - 1s - 1ms/step - accuracy: 0.7377 - loss: 0.5374\n",
      "Epoch 45/100\n",
      "858/858 - 1s - 1ms/step - accuracy: 0.7391 - loss: 0.5375\n",
      "Epoch 46/100\n",
      "858/858 - 1s - 2ms/step - accuracy: 0.7396 - loss: 0.5373\n",
      "Epoch 47/100\n",
      "858/858 - 1s - 1ms/step - accuracy: 0.7377 - loss: 0.5374\n",
      "Epoch 48/100\n",
      "858/858 - 1s - 1ms/step - accuracy: 0.7388 - loss: 0.5373\n",
      "Epoch 49/100\n",
      "858/858 - 2s - 2ms/step - accuracy: 0.7391 - loss: 0.5372\n",
      "Epoch 50/100\n",
      "858/858 - 1s - 1ms/step - accuracy: 0.7384 - loss: 0.5371\n",
      "Epoch 51/100\n",
      "858/858 - 1s - 1ms/step - accuracy: 0.7387 - loss: 0.5368\n",
      "Epoch 52/100\n",
      "858/858 - 1s - 2ms/step - accuracy: 0.7389 - loss: 0.5368\n",
      "Epoch 53/100\n",
      "858/858 - 1s - 1ms/step - accuracy: 0.7380 - loss: 0.5375\n",
      "Epoch 54/100\n",
      "858/858 - 1s - 2ms/step - accuracy: 0.7399 - loss: 0.5365\n",
      "Epoch 55/100\n",
      "858/858 - 1s - 1ms/step - accuracy: 0.7389 - loss: 0.5363\n",
      "Epoch 56/100\n",
      "858/858 - 1s - 1ms/step - accuracy: 0.7385 - loss: 0.5363\n",
      "Epoch 57/100\n",
      "858/858 - 1s - 2ms/step - accuracy: 0.7393 - loss: 0.5367\n",
      "Epoch 58/100\n",
      "858/858 - 1s - 1ms/step - accuracy: 0.7387 - loss: 0.5364\n",
      "Epoch 59/100\n",
      "858/858 - 1s - 1ms/step - accuracy: 0.7393 - loss: 0.5362\n",
      "Epoch 60/100\n",
      "858/858 - 1s - 2ms/step - accuracy: 0.7388 - loss: 0.5365\n",
      "Epoch 61/100\n",
      "858/858 - 1s - 1ms/step - accuracy: 0.7387 - loss: 0.5365\n",
      "Epoch 62/100\n",
      "858/858 - 1s - 2ms/step - accuracy: 0.7388 - loss: 0.5363\n",
      "Epoch 63/100\n",
      "858/858 - 1s - 1ms/step - accuracy: 0.7393 - loss: 0.5362\n",
      "Epoch 64/100\n",
      "858/858 - 1s - 1ms/step - accuracy: 0.7387 - loss: 0.5360\n",
      "Epoch 65/100\n",
      "858/858 - 1s - 2ms/step - accuracy: 0.7385 - loss: 0.5360\n",
      "Epoch 66/100\n",
      "858/858 - 1s - 1ms/step - accuracy: 0.7396 - loss: 0.5358\n",
      "Epoch 67/100\n",
      "858/858 - 1s - 1ms/step - accuracy: 0.7396 - loss: 0.5359\n",
      "Epoch 68/100\n",
      "858/858 - 1s - 2ms/step - accuracy: 0.7389 - loss: 0.5355\n",
      "Epoch 69/100\n",
      "858/858 - 1s - 1ms/step - accuracy: 0.7393 - loss: 0.5361\n",
      "Epoch 70/100\n",
      "858/858 - 2s - 2ms/step - accuracy: 0.7391 - loss: 0.5356\n",
      "Epoch 71/100\n",
      "858/858 - 1s - 1ms/step - accuracy: 0.7395 - loss: 0.5357\n",
      "Epoch 72/100\n",
      "858/858 - 1s - 1ms/step - accuracy: 0.7399 - loss: 0.5356\n",
      "Epoch 73/100\n",
      "858/858 - 2s - 2ms/step - accuracy: 0.7390 - loss: 0.5360\n",
      "Epoch 74/100\n",
      "858/858 - 1s - 1ms/step - accuracy: 0.7398 - loss: 0.5355\n",
      "Epoch 75/100\n",
      "858/858 - 1s - 1ms/step - accuracy: 0.7397 - loss: 0.5351\n",
      "Epoch 76/100\n",
      "858/858 - 1s - 2ms/step - accuracy: 0.7399 - loss: 0.5352\n",
      "Epoch 77/100\n",
      "858/858 - 1s - 1ms/step - accuracy: 0.7398 - loss: 0.5353\n",
      "Epoch 78/100\n",
      "858/858 - 1s - 2ms/step - accuracy: 0.7389 - loss: 0.5354\n",
      "Epoch 79/100\n",
      "858/858 - 1s - 1ms/step - accuracy: 0.7397 - loss: 0.5350\n",
      "Epoch 80/100\n",
      "858/858 - 1s - 1ms/step - accuracy: 0.7391 - loss: 0.5352\n",
      "Epoch 81/100\n",
      "858/858 - 1s - 2ms/step - accuracy: 0.7396 - loss: 0.5353\n",
      "Epoch 82/100\n",
      "858/858 - 1s - 1ms/step - accuracy: 0.7392 - loss: 0.5351\n",
      "Epoch 83/100\n",
      "858/858 - 1s - 1ms/step - accuracy: 0.7394 - loss: 0.5347\n",
      "Epoch 84/100\n",
      "858/858 - 1s - 2ms/step - accuracy: 0.7399 - loss: 0.5349\n",
      "Epoch 85/100\n",
      "858/858 - 1s - 1ms/step - accuracy: 0.7395 - loss: 0.5348\n",
      "Epoch 86/100\n",
      "858/858 - 1s - 1ms/step - accuracy: 0.7397 - loss: 0.5350\n",
      "Epoch 87/100\n",
      "858/858 - 1s - 2ms/step - accuracy: 0.7394 - loss: 0.5348\n",
      "Epoch 88/100\n",
      "858/858 - 1s - 1ms/step - accuracy: 0.7403 - loss: 0.5348\n",
      "Epoch 89/100\n",
      "858/858 - 2s - 2ms/step - accuracy: 0.7391 - loss: 0.5345\n",
      "Epoch 90/100\n",
      "858/858 - 1s - 1ms/step - accuracy: 0.7403 - loss: 0.5342\n",
      "Epoch 91/100\n",
      "858/858 - 1s - 1ms/step - accuracy: 0.7397 - loss: 0.5345\n",
      "Epoch 92/100\n",
      "858/858 - 1s - 2ms/step - accuracy: 0.7402 - loss: 0.5342\n",
      "Epoch 93/100\n",
      "858/858 - 1s - 1ms/step - accuracy: 0.7397 - loss: 0.5343\n",
      "Epoch 94/100\n",
      "858/858 - 2s - 2ms/step - accuracy: 0.7403 - loss: 0.5346\n",
      "Epoch 95/100\n",
      "858/858 - 1s - 1ms/step - accuracy: 0.7397 - loss: 0.5345\n",
      "Epoch 96/100\n",
      "858/858 - 1s - 1ms/step - accuracy: 0.7406 - loss: 0.5340\n",
      "Epoch 97/100\n",
      "858/858 - 1s - 2ms/step - accuracy: 0.7398 - loss: 0.5344\n",
      "Epoch 98/100\n",
      "858/858 - 1s - 1ms/step - accuracy: 0.7396 - loss: 0.5344\n",
      "Epoch 99/100\n",
      "858/858 - 1s - 2ms/step - accuracy: 0.7402 - loss: 0.5344\n",
      "Epoch 100/100\n",
      "858/858 - 1s - 1ms/step - accuracy: 0.7400 - loss: 0.5339\n"
     ]
    },
    {
     "data": {
      "text/plain": [
       "<keras.src.callbacks.history.History at 0x1d7a5cb29b0>"
      ]
     },
     "execution_count": 53,
     "metadata": {},
     "output_type": "execute_result"
    }
   ],
   "source": [
    "# Train the model\n",
    "nn.fit(X_train_scaled, y_train, epochs=100, batch_size=32, verbose=2)"
   ]
  },
  {
   "cell_type": "code",
   "execution_count": 54,
   "metadata": {},
   "outputs": [
    {
     "name": "stdout",
     "output_type": "stream",
     "text": [
      "215/215 - 0s - 2ms/step - accuracy: 0.7252 - loss: 0.5669\n",
      "Loss: 0.5669056177139282, Accuracy: 0.725218653678894\n"
     ]
    }
   ],
   "source": [
    "# Evaluate the model using the test data\n",
    "model_loss, model_accuracy = nn.evaluate(X_test_scaled,y_test,verbose=2)\n",
    "print(f\"Loss: {model_loss}, Accuracy: {model_accuracy}\")"
   ]
  },
  {
   "cell_type": "code",
   "execution_count": 55,
   "metadata": {},
   "outputs": [
    {
     "name": "stderr",
     "output_type": "stream",
     "text": [
      "WARNING:absl:You are saving your model as an HDF5 file via `model.save()` or `keras.saving.save_model(model)`. This file format is considered legacy. We recommend using instead the native Keras format, e.g. `model.save('my_model.keras')` or `keras.saving.save_model(model, 'my_model.keras')`. \n"
     ]
    }
   ],
   "source": [
    "# Export our model to HDF5 file\n",
    "nn.save(\"charity_model.h5\")"
   ]
  },
  {
   "cell_type": "markdown",
   "metadata": {},
   "source": [
    "## **Step 3 Optimize the MOdel. Compile, Trian and Evaluate the Model More**"
   ]
  },
  {
   "cell_type": "code",
   "execution_count": 56,
   "metadata": {},
   "outputs": [],
   "source": [
    "# Define the optimized model\n",
    "nn = tf.keras.models.Sequential()"
   ]
  },
  {
   "cell_type": "code",
   "execution_count": 57,
   "metadata": {},
   "outputs": [
    {
     "name": "stderr",
     "output_type": "stream",
     "text": [
      "c:\\Users\\fitse\\anaconda3\\envs\\fitenv\\lib\\site-packages\\keras\\src\\layers\\activations\\leaky_relu.py:41: UserWarning: Argument `alpha` is deprecated. Use `negative_slope` instead.\n",
      "  warnings.warn(\n"
     ]
    },
    {
     "data": {
      "text/html": [
       "<pre style=\"white-space:pre;overflow-x:auto;line-height:normal;font-family:Menlo,'DejaVu Sans Mono',consolas,'Courier New',monospace\"><span style=\"font-weight: bold\">Model: \"sequential_3\"</span>\n",
       "</pre>\n"
      ],
      "text/plain": [
       "\u001b[1mModel: \"sequential_3\"\u001b[0m\n"
      ]
     },
     "metadata": {},
     "output_type": "display_data"
    },
    {
     "data": {
      "text/html": [
       "<pre style=\"white-space:pre;overflow-x:auto;line-height:normal;font-family:Menlo,'DejaVu Sans Mono',consolas,'Courier New',monospace\">┏━━━━━━━━━━━━━━━━━━━━━━━━━━━━━━━━━┳━━━━━━━━━━━━━━━━━━━━━━━━┳━━━━━━━━━━━━━━━┓\n",
       "┃<span style=\"font-weight: bold\"> Layer (type)                    </span>┃<span style=\"font-weight: bold\"> Output Shape           </span>┃<span style=\"font-weight: bold\">       Param # </span>┃\n",
       "┡━━━━━━━━━━━━━━━━━━━━━━━━━━━━━━━━━╇━━━━━━━━━━━━━━━━━━━━━━━━╇━━━━━━━━━━━━━━━┩\n",
       "│ dense_9 (<span style=\"color: #0087ff; text-decoration-color: #0087ff\">Dense</span>)                 │ (<span style=\"color: #00d7ff; text-decoration-color: #00d7ff\">None</span>, <span style=\"color: #00af00; text-decoration-color: #00af00\">128</span>)            │         <span style=\"color: #00af00; text-decoration-color: #00af00\">5,632</span> │\n",
       "├─────────────────────────────────┼────────────────────────┼───────────────┤\n",
       "│ leaky_re_lu (<span style=\"color: #0087ff; text-decoration-color: #0087ff\">LeakyReLU</span>)         │ (<span style=\"color: #00d7ff; text-decoration-color: #00d7ff\">None</span>, <span style=\"color: #00af00; text-decoration-color: #00af00\">128</span>)            │             <span style=\"color: #00af00; text-decoration-color: #00af00\">0</span> │\n",
       "├─────────────────────────────────┼────────────────────────┼───────────────┤\n",
       "│ dense_10 (<span style=\"color: #0087ff; text-decoration-color: #0087ff\">Dense</span>)                │ (<span style=\"color: #00d7ff; text-decoration-color: #00d7ff\">None</span>, <span style=\"color: #00af00; text-decoration-color: #00af00\">64</span>)             │         <span style=\"color: #00af00; text-decoration-color: #00af00\">8,256</span> │\n",
       "├─────────────────────────────────┼────────────────────────┼───────────────┤\n",
       "│ dense_11 (<span style=\"color: #0087ff; text-decoration-color: #0087ff\">Dense</span>)                │ (<span style=\"color: #00d7ff; text-decoration-color: #00d7ff\">None</span>, <span style=\"color: #00af00; text-decoration-color: #00af00\">32</span>)             │         <span style=\"color: #00af00; text-decoration-color: #00af00\">2,080</span> │\n",
       "├─────────────────────────────────┼────────────────────────┼───────────────┤\n",
       "│ leaky_re_lu_1 (<span style=\"color: #0087ff; text-decoration-color: #0087ff\">LeakyReLU</span>)       │ (<span style=\"color: #00d7ff; text-decoration-color: #00d7ff\">None</span>, <span style=\"color: #00af00; text-decoration-color: #00af00\">32</span>)             │             <span style=\"color: #00af00; text-decoration-color: #00af00\">0</span> │\n",
       "├─────────────────────────────────┼────────────────────────┼───────────────┤\n",
       "│ dense_12 (<span style=\"color: #0087ff; text-decoration-color: #0087ff\">Dense</span>)                │ (<span style=\"color: #00d7ff; text-decoration-color: #00d7ff\">None</span>, <span style=\"color: #00af00; text-decoration-color: #00af00\">16</span>)             │           <span style=\"color: #00af00; text-decoration-color: #00af00\">528</span> │\n",
       "├─────────────────────────────────┼────────────────────────┼───────────────┤\n",
       "│ dense_13 (<span style=\"color: #0087ff; text-decoration-color: #0087ff\">Dense</span>)                │ (<span style=\"color: #00d7ff; text-decoration-color: #00d7ff\">None</span>, <span style=\"color: #00af00; text-decoration-color: #00af00\">1</span>)              │            <span style=\"color: #00af00; text-decoration-color: #00af00\">17</span> │\n",
       "└─────────────────────────────────┴────────────────────────┴───────────────┘\n",
       "</pre>\n"
      ],
      "text/plain": [
       "┏━━━━━━━━━━━━━━━━━━━━━━━━━━━━━━━━━┳━━━━━━━━━━━━━━━━━━━━━━━━┳━━━━━━━━━━━━━━━┓\n",
       "┃\u001b[1m \u001b[0m\u001b[1mLayer (type)                   \u001b[0m\u001b[1m \u001b[0m┃\u001b[1m \u001b[0m\u001b[1mOutput Shape          \u001b[0m\u001b[1m \u001b[0m┃\u001b[1m \u001b[0m\u001b[1m      Param #\u001b[0m\u001b[1m \u001b[0m┃\n",
       "┡━━━━━━━━━━━━━━━━━━━━━━━━━━━━━━━━━╇━━━━━━━━━━━━━━━━━━━━━━━━╇━━━━━━━━━━━━━━━┩\n",
       "│ dense_9 (\u001b[38;5;33mDense\u001b[0m)                 │ (\u001b[38;5;45mNone\u001b[0m, \u001b[38;5;34m128\u001b[0m)            │         \u001b[38;5;34m5,632\u001b[0m │\n",
       "├─────────────────────────────────┼────────────────────────┼───────────────┤\n",
       "│ leaky_re_lu (\u001b[38;5;33mLeakyReLU\u001b[0m)         │ (\u001b[38;5;45mNone\u001b[0m, \u001b[38;5;34m128\u001b[0m)            │             \u001b[38;5;34m0\u001b[0m │\n",
       "├─────────────────────────────────┼────────────────────────┼───────────────┤\n",
       "│ dense_10 (\u001b[38;5;33mDense\u001b[0m)                │ (\u001b[38;5;45mNone\u001b[0m, \u001b[38;5;34m64\u001b[0m)             │         \u001b[38;5;34m8,256\u001b[0m │\n",
       "├─────────────────────────────────┼────────────────────────┼───────────────┤\n",
       "│ dense_11 (\u001b[38;5;33mDense\u001b[0m)                │ (\u001b[38;5;45mNone\u001b[0m, \u001b[38;5;34m32\u001b[0m)             │         \u001b[38;5;34m2,080\u001b[0m │\n",
       "├─────────────────────────────────┼────────────────────────┼───────────────┤\n",
       "│ leaky_re_lu_1 (\u001b[38;5;33mLeakyReLU\u001b[0m)       │ (\u001b[38;5;45mNone\u001b[0m, \u001b[38;5;34m32\u001b[0m)             │             \u001b[38;5;34m0\u001b[0m │\n",
       "├─────────────────────────────────┼────────────────────────┼───────────────┤\n",
       "│ dense_12 (\u001b[38;5;33mDense\u001b[0m)                │ (\u001b[38;5;45mNone\u001b[0m, \u001b[38;5;34m16\u001b[0m)             │           \u001b[38;5;34m528\u001b[0m │\n",
       "├─────────────────────────────────┼────────────────────────┼───────────────┤\n",
       "│ dense_13 (\u001b[38;5;33mDense\u001b[0m)                │ (\u001b[38;5;45mNone\u001b[0m, \u001b[38;5;34m1\u001b[0m)              │            \u001b[38;5;34m17\u001b[0m │\n",
       "└─────────────────────────────────┴────────────────────────┴───────────────┘\n"
      ]
     },
     "metadata": {},
     "output_type": "display_data"
    },
    {
     "data": {
      "text/html": [
       "<pre style=\"white-space:pre;overflow-x:auto;line-height:normal;font-family:Menlo,'DejaVu Sans Mono',consolas,'Courier New',monospace\"><span style=\"font-weight: bold\"> Total params: </span><span style=\"color: #00af00; text-decoration-color: #00af00\">16,513</span> (64.50 KB)\n",
       "</pre>\n"
      ],
      "text/plain": [
       "\u001b[1m Total params: \u001b[0m\u001b[38;5;34m16,513\u001b[0m (64.50 KB)\n"
      ]
     },
     "metadata": {},
     "output_type": "display_data"
    },
    {
     "data": {
      "text/html": [
       "<pre style=\"white-space:pre;overflow-x:auto;line-height:normal;font-family:Menlo,'DejaVu Sans Mono',consolas,'Courier New',monospace\"><span style=\"font-weight: bold\"> Trainable params: </span><span style=\"color: #00af00; text-decoration-color: #00af00\">16,513</span> (64.50 KB)\n",
       "</pre>\n"
      ],
      "text/plain": [
       "\u001b[1m Trainable params: \u001b[0m\u001b[38;5;34m16,513\u001b[0m (64.50 KB)\n"
      ]
     },
     "metadata": {},
     "output_type": "display_data"
    },
    {
     "data": {
      "text/html": [
       "<pre style=\"white-space:pre;overflow-x:auto;line-height:normal;font-family:Menlo,'DejaVu Sans Mono',consolas,'Courier New',monospace\"><span style=\"font-weight: bold\"> Non-trainable params: </span><span style=\"color: #00af00; text-decoration-color: #00af00\">0</span> (0.00 B)\n",
       "</pre>\n"
      ],
      "text/plain": [
       "\u001b[1m Non-trainable params: \u001b[0m\u001b[38;5;34m0\u001b[0m (0.00 B)\n"
      ]
     },
     "metadata": {},
     "output_type": "display_data"
    }
   ],
   "source": [
    "# First hidden layer with increased neurons and LeakyReLU activation\n",
    "nn.add(tf.keras.layers.Dense(units=128, input_dim=X_train.shape[1]))\n",
    "nn.add(tf.keras.layers.LeakyReLU(alpha=0.01))\n",
    "\n",
    "# Second hidden layer with increased neurons and tanh activation\n",
    "nn.add(tf.keras.layers.Dense(units=64, activation='tanh'))\n",
    "\n",
    "# Third hidden layer with increased neurons and LeakyReLU activation\n",
    "nn.add(tf.keras.layers.Dense(units=32))\n",
    "nn.add(tf.keras.layers.LeakyReLU(alpha=0.01))\n",
    "\n",
    "# Fourth hidden layer (newly added) with tanh activation\n",
    "nn.add(tf.keras.layers.Dense(units=16, activation='tanh'))\n",
    "\n",
    "# Output layer\n",
    "nn.add(tf.keras.layers.Dense(units=1, activation='sigmoid'))\n",
    "\n",
    "# Check the structure of the model\n",
    "nn.summary()"
   ]
  },
  {
   "cell_type": "code",
   "execution_count": 66,
   "metadata": {},
   "outputs": [],
   "source": [
    "# Compile the model \n",
    "nn.compile(loss='binary_crossentropy', optimizer='adam', metrics=['accuracy'])"
   ]
  },
  {
   "cell_type": "code",
   "execution_count": 67,
   "metadata": {},
   "outputs": [],
   "source": [
    "# Create a callback that saves the model's weights every five epochs\n",
    "checkpoint_cb = tf.keras.callbacks.ModelCheckpoint(\"optimized_weights.weights.h5\", save_weights_only=True, save_freq=5*len(X_train)//32)"
   ]
  },
  {
   "cell_type": "code",
   "execution_count": 68,
   "metadata": {},
   "outputs": [
    {
     "name": "stdout",
     "output_type": "stream",
     "text": [
      "Epoch 1/120\n",
      "858/858 - 4s - 4ms/step - accuracy: 0.7380 - loss: 0.5425\n",
      "Epoch 2/120\n",
      "858/858 - 2s - 3ms/step - accuracy: 0.7384 - loss: 0.5408\n",
      "Epoch 3/120\n",
      "858/858 - 2s - 3ms/step - accuracy: 0.7386 - loss: 0.5407\n",
      "Epoch 4/120\n",
      "858/858 - 2s - 2ms/step - accuracy: 0.7381 - loss: 0.5411\n",
      "Epoch 5/120\n",
      "858/858 - 2s - 2ms/step - accuracy: 0.7385 - loss: 0.5406\n",
      "Epoch 6/120\n",
      "858/858 - 2s - 3ms/step - accuracy: 0.7384 - loss: 0.5399\n",
      "Epoch 7/120\n",
      "858/858 - 2s - 2ms/step - accuracy: 0.7387 - loss: 0.5401\n",
      "Epoch 8/120\n",
      "858/858 - 2s - 2ms/step - accuracy: 0.7394 - loss: 0.5397\n",
      "Epoch 9/120\n",
      "858/858 - 2s - 2ms/step - accuracy: 0.7382 - loss: 0.5393\n",
      "Epoch 10/120\n",
      "858/858 - 2s - 2ms/step - accuracy: 0.7390 - loss: 0.5390\n",
      "Epoch 11/120\n",
      "858/858 - 2s - 2ms/step - accuracy: 0.7383 - loss: 0.5401\n",
      "Epoch 12/120\n",
      "858/858 - 2s - 2ms/step - accuracy: 0.7396 - loss: 0.5396\n",
      "Epoch 13/120\n",
      "858/858 - 2s - 2ms/step - accuracy: 0.7393 - loss: 0.5387\n",
      "Epoch 14/120\n",
      "858/858 - 2s - 2ms/step - accuracy: 0.7382 - loss: 0.5390\n",
      "Epoch 15/120\n",
      "858/858 - 2s - 2ms/step - accuracy: 0.7394 - loss: 0.5381\n",
      "Epoch 16/120\n",
      "858/858 - 2s - 2ms/step - accuracy: 0.7396 - loss: 0.5398\n",
      "Epoch 17/120\n",
      "858/858 - 2s - 2ms/step - accuracy: 0.7392 - loss: 0.5390\n",
      "Epoch 18/120\n",
      "858/858 - 2s - 2ms/step - accuracy: 0.7373 - loss: 0.5399\n",
      "Epoch 19/120\n",
      "858/858 - 2s - 2ms/step - accuracy: 0.7369 - loss: 0.5402\n",
      "Epoch 20/120\n",
      "858/858 - 2s - 2ms/step - accuracy: 0.7376 - loss: 0.5392\n",
      "Epoch 21/120\n",
      "858/858 - 2s - 2ms/step - accuracy: 0.7389 - loss: 0.5378\n",
      "Epoch 22/120\n",
      "858/858 - 2s - 2ms/step - accuracy: 0.7380 - loss: 0.5389\n",
      "Epoch 23/120\n",
      "858/858 - 2s - 2ms/step - accuracy: 0.7390 - loss: 0.5379\n",
      "Epoch 24/120\n",
      "858/858 - 2s - 2ms/step - accuracy: 0.7393 - loss: 0.5377\n",
      "Epoch 25/120\n",
      "858/858 - 2s - 2ms/step - accuracy: 0.7384 - loss: 0.5384\n",
      "Epoch 26/120\n",
      "858/858 - 2s - 2ms/step - accuracy: 0.7397 - loss: 0.5373\n",
      "Epoch 27/120\n",
      "858/858 - 2s - 2ms/step - accuracy: 0.7368 - loss: 0.5388\n",
      "Epoch 28/120\n",
      "858/858 - 2s - 2ms/step - accuracy: 0.7353 - loss: 0.5392\n",
      "Epoch 29/120\n",
      "858/858 - 2s - 2ms/step - accuracy: 0.7380 - loss: 0.5379\n",
      "Epoch 30/120\n",
      "858/858 - 2s - 2ms/step - accuracy: 0.7372 - loss: 0.5398\n",
      "Epoch 31/120\n",
      "858/858 - 1s - 2ms/step - accuracy: 0.7360 - loss: 0.5399\n",
      "Epoch 32/120\n",
      "858/858 - 2s - 2ms/step - accuracy: 0.7370 - loss: 0.5403\n",
      "Epoch 33/120\n",
      "858/858 - 2s - 2ms/step - accuracy: 0.7372 - loss: 0.5394\n",
      "Epoch 34/120\n",
      "858/858 - 2s - 2ms/step - accuracy: 0.7382 - loss: 0.5380\n",
      "Epoch 35/120\n",
      "858/858 - 2s - 2ms/step - accuracy: 0.7359 - loss: 0.5372\n",
      "Epoch 36/120\n",
      "858/858 - 2s - 2ms/step - accuracy: 0.7377 - loss: 0.5367\n",
      "Epoch 37/120\n",
      "858/858 - 2s - 2ms/step - accuracy: 0.7380 - loss: 0.5379\n",
      "Epoch 38/120\n",
      "858/858 - 2s - 2ms/step - accuracy: 0.7373 - loss: 0.5392\n",
      "Epoch 39/120\n",
      "858/858 - 2s - 2ms/step - accuracy: 0.7369 - loss: 0.5407\n",
      "Epoch 40/120\n",
      "858/858 - 2s - 2ms/step - accuracy: 0.7374 - loss: 0.5401\n",
      "Epoch 41/120\n",
      "858/858 - 2s - 2ms/step - accuracy: 0.7385 - loss: 0.5391\n",
      "Epoch 42/120\n",
      "858/858 - 2s - 2ms/step - accuracy: 0.7384 - loss: 0.5388\n",
      "Epoch 43/120\n",
      "858/858 - 2s - 2ms/step - accuracy: 0.7395 - loss: 0.5375\n",
      "Epoch 44/120\n",
      "858/858 - 2s - 2ms/step - accuracy: 0.7376 - loss: 0.5373\n",
      "Epoch 45/120\n",
      "858/858 - 2s - 2ms/step - accuracy: 0.7383 - loss: 0.5372\n",
      "Epoch 46/120\n",
      "858/858 - 1s - 2ms/step - accuracy: 0.7380 - loss: 0.5371\n",
      "Epoch 47/120\n",
      "858/858 - 2s - 2ms/step - accuracy: 0.7392 - loss: 0.5367\n",
      "Epoch 48/120\n",
      "858/858 - 1s - 2ms/step - accuracy: 0.7389 - loss: 0.5365\n",
      "Epoch 49/120\n",
      "858/858 - 2s - 2ms/step - accuracy: 0.7372 - loss: 0.5381\n",
      "Epoch 50/120\n",
      "858/858 - 2s - 2ms/step - accuracy: 0.7381 - loss: 0.5369\n",
      "Epoch 51/120\n",
      "858/858 - 2s - 2ms/step - accuracy: 0.7385 - loss: 0.5369\n",
      "Epoch 52/120\n",
      "858/858 - 2s - 2ms/step - accuracy: 0.7381 - loss: 0.5367\n",
      "Epoch 53/120\n",
      "858/858 - 2s - 2ms/step - accuracy: 0.7395 - loss: 0.5374\n",
      "Epoch 54/120\n",
      "858/858 - 2s - 2ms/step - accuracy: 0.7392 - loss: 0.5373\n",
      "Epoch 55/120\n",
      "858/858 - 2s - 2ms/step - accuracy: 0.7381 - loss: 0.5381\n",
      "Epoch 56/120\n",
      "858/858 - 2s - 2ms/step - accuracy: 0.7388 - loss: 0.5376\n",
      "Epoch 57/120\n",
      "858/858 - 2s - 2ms/step - accuracy: 0.7383 - loss: 0.5379\n",
      "Epoch 58/120\n",
      "858/858 - 2s - 2ms/step - accuracy: 0.7380 - loss: 0.5373\n",
      "Epoch 59/120\n",
      "858/858 - 2s - 2ms/step - accuracy: 0.7383 - loss: 0.5364\n",
      "Epoch 60/120\n",
      "858/858 - 2s - 2ms/step - accuracy: 0.7384 - loss: 0.5367\n",
      "Epoch 61/120\n",
      "858/858 - 2s - 2ms/step - accuracy: 0.7375 - loss: 0.5376\n",
      "Epoch 62/120\n",
      "858/858 - 2s - 2ms/step - accuracy: 0.7375 - loss: 0.5368\n",
      "Epoch 63/120\n",
      "858/858 - 2s - 2ms/step - accuracy: 0.7387 - loss: 0.5367\n",
      "Epoch 64/120\n",
      "858/858 - 2s - 2ms/step - accuracy: 0.7387 - loss: 0.5366\n",
      "Epoch 65/120\n",
      "858/858 - 2s - 2ms/step - accuracy: 0.7382 - loss: 0.5382\n",
      "Epoch 66/120\n",
      "858/858 - 2s - 2ms/step - accuracy: 0.7388 - loss: 0.5367\n",
      "Epoch 67/120\n",
      "858/858 - 2s - 2ms/step - accuracy: 0.7385 - loss: 0.5374\n",
      "Epoch 68/120\n",
      "858/858 - 2s - 2ms/step - accuracy: 0.7384 - loss: 0.5362\n",
      "Epoch 69/120\n",
      "858/858 - 2s - 3ms/step - accuracy: 0.7403 - loss: 0.5365\n",
      "Epoch 70/120\n",
      "858/858 - 2s - 2ms/step - accuracy: 0.7395 - loss: 0.5366\n",
      "Epoch 71/120\n",
      "858/858 - 3s - 4ms/step - accuracy: 0.7380 - loss: 0.5373\n",
      "Epoch 72/120\n",
      "858/858 - 4s - 5ms/step - accuracy: 0.7391 - loss: 0.5367\n",
      "Epoch 73/120\n",
      "858/858 - 5s - 6ms/step - accuracy: 0.7391 - loss: 0.5369\n",
      "Epoch 74/120\n",
      "858/858 - 4s - 5ms/step - accuracy: 0.7390 - loss: 0.5361\n",
      "Epoch 75/120\n",
      "858/858 - 3s - 3ms/step - accuracy: 0.7392 - loss: 0.5366\n",
      "Epoch 76/120\n",
      "858/858 - 2s - 2ms/step - accuracy: 0.7383 - loss: 0.5365\n",
      "Epoch 77/120\n",
      "858/858 - 2s - 2ms/step - accuracy: 0.7388 - loss: 0.5370\n",
      "Epoch 78/120\n",
      "858/858 - 2s - 2ms/step - accuracy: 0.7392 - loss: 0.5375\n",
      "Epoch 79/120\n",
      "858/858 - 1s - 2ms/step - accuracy: 0.7384 - loss: 0.5368\n",
      "Epoch 80/120\n",
      "858/858 - 2s - 3ms/step - accuracy: 0.7396 - loss: 0.5365\n",
      "Epoch 81/120\n",
      "858/858 - 2s - 2ms/step - accuracy: 0.7397 - loss: 0.5370\n",
      "Epoch 82/120\n",
      "858/858 - 2s - 2ms/step - accuracy: 0.7381 - loss: 0.5371\n",
      "Epoch 83/120\n",
      "858/858 - 1s - 2ms/step - accuracy: 0.7401 - loss: 0.5358\n",
      "Epoch 84/120\n",
      "858/858 - 2s - 2ms/step - accuracy: 0.7399 - loss: 0.5357\n",
      "Epoch 85/120\n",
      "858/858 - 2s - 2ms/step - accuracy: 0.7392 - loss: 0.5359\n",
      "Epoch 86/120\n",
      "858/858 - 2s - 2ms/step - accuracy: 0.7395 - loss: 0.5357\n",
      "Epoch 87/120\n",
      "858/858 - 2s - 2ms/step - accuracy: 0.7382 - loss: 0.5369\n",
      "Epoch 88/120\n",
      "858/858 - 2s - 2ms/step - accuracy: 0.7392 - loss: 0.5359\n",
      "Epoch 89/120\n",
      "858/858 - 2s - 2ms/step - accuracy: 0.7375 - loss: 0.5366\n",
      "Epoch 90/120\n",
      "858/858 - 2s - 2ms/step - accuracy: 0.7393 - loss: 0.5365\n",
      "Epoch 91/120\n",
      "858/858 - 2s - 2ms/step - accuracy: 0.7383 - loss: 0.5378\n",
      "Epoch 92/120\n",
      "858/858 - 2s - 2ms/step - accuracy: 0.7387 - loss: 0.5369\n",
      "Epoch 93/120\n",
      "858/858 - 2s - 2ms/step - accuracy: 0.7375 - loss: 0.5394\n",
      "Epoch 94/120\n",
      "858/858 - 1s - 2ms/step - accuracy: 0.7387 - loss: 0.5376\n",
      "Epoch 95/120\n",
      "858/858 - 2s - 2ms/step - accuracy: 0.7368 - loss: 0.5391\n",
      "Epoch 96/120\n",
      "858/858 - 2s - 2ms/step - accuracy: 0.7375 - loss: 0.5378\n",
      "Epoch 97/120\n",
      "858/858 - 2s - 2ms/step - accuracy: 0.7383 - loss: 0.5377\n",
      "Epoch 98/120\n",
      "858/858 - 2s - 2ms/step - accuracy: 0.7378 - loss: 0.5377\n",
      "Epoch 99/120\n",
      "858/858 - 2s - 2ms/step - accuracy: 0.7367 - loss: 0.5396\n",
      "Epoch 100/120\n",
      "858/858 - 2s - 2ms/step - accuracy: 0.7371 - loss: 0.5383\n",
      "Epoch 101/120\n",
      "858/858 - 1s - 2ms/step - accuracy: 0.7388 - loss: 0.5376\n",
      "Epoch 102/120\n",
      "858/858 - 3s - 4ms/step - accuracy: 0.7383 - loss: 0.5382\n",
      "Epoch 103/120\n",
      "858/858 - 1s - 2ms/step - accuracy: 0.7395 - loss: 0.5374\n",
      "Epoch 104/120\n",
      "858/858 - 2s - 2ms/step - accuracy: 0.7387 - loss: 0.5366\n",
      "Epoch 105/120\n",
      "858/858 - 2s - 2ms/step - accuracy: 0.7389 - loss: 0.5366\n",
      "Epoch 106/120\n",
      "858/858 - 2s - 3ms/step - accuracy: 0.7388 - loss: 0.5364\n",
      "Epoch 107/120\n",
      "858/858 - 3s - 3ms/step - accuracy: 0.7383 - loss: 0.5358\n",
      "Epoch 108/120\n",
      "858/858 - 3s - 3ms/step - accuracy: 0.7393 - loss: 0.5363\n",
      "Epoch 109/120\n",
      "858/858 - 2s - 2ms/step - accuracy: 0.7378 - loss: 0.5369\n",
      "Epoch 110/120\n",
      "858/858 - 2s - 2ms/step - accuracy: 0.7401 - loss: 0.5357\n",
      "Epoch 111/120\n",
      "858/858 - 2s - 2ms/step - accuracy: 0.7394 - loss: 0.5362\n",
      "Epoch 112/120\n",
      "858/858 - 2s - 2ms/step - accuracy: 0.7384 - loss: 0.5365\n",
      "Epoch 113/120\n",
      "858/858 - 2s - 2ms/step - accuracy: 0.7396 - loss: 0.5360\n",
      "Epoch 114/120\n",
      "858/858 - 2s - 2ms/step - accuracy: 0.7394 - loss: 0.5359\n",
      "Epoch 115/120\n",
      "858/858 - 2s - 3ms/step - accuracy: 0.7379 - loss: 0.5361\n",
      "Epoch 116/120\n",
      "858/858 - 2s - 2ms/step - accuracy: 0.7387 - loss: 0.5360\n",
      "Epoch 117/120\n",
      "858/858 - 2s - 3ms/step - accuracy: 0.7394 - loss: 0.5364\n",
      "Epoch 118/120\n",
      "858/858 - 2s - 2ms/step - accuracy: 0.7368 - loss: 0.5368\n",
      "Epoch 119/120\n",
      "858/858 - 3s - 3ms/step - accuracy: 0.7388 - loss: 0.5366\n",
      "Epoch 120/120\n",
      "858/858 - 2s - 2ms/step - accuracy: 0.7387 - loss: 0.5366\n"
     ]
    },
    {
     "data": {
      "text/plain": [
       "<keras.src.callbacks.history.History at 0x1d7a4804d30>"
      ]
     },
     "execution_count": 68,
     "metadata": {},
     "output_type": "execute_result"
    }
   ],
   "source": [
    "nn.fit(X_train_scaled, y_train, epochs=120, batch_size=32, verbose=2, callbacks=[checkpoint_cb])"
   ]
  },
  {
   "cell_type": "code",
   "execution_count": 69,
   "metadata": {},
   "outputs": [
    {
     "name": "stdout",
     "output_type": "stream",
     "text": [
      "215/215 - 0s - 2ms/step - accuracy: 0.7271 - loss: 0.5638\n",
      "Loss: 0.563836395740509, Accuracy: 0.7271137237548828\n"
     ]
    }
   ],
   "source": [
    "# Evaluate the model using the test data\n",
    "model_loss, model_accuracy = nn.evaluate(X_test_scaled, y_test, verbose=2)\n",
    "print(f\"Loss: {model_loss}, Accuracy: {model_accuracy}\")"
   ]
  },
  {
   "cell_type": "code",
   "execution_count": 70,
   "metadata": {},
   "outputs": [
    {
     "name": "stderr",
     "output_type": "stream",
     "text": [
      "WARNING:absl:You are saving your model as an HDF5 file via `model.save()` or `keras.saving.save_model(model)`. This file format is considered legacy. We recommend using instead the native Keras format, e.g. `model.save('my_model.keras')` or `keras.saving.save_model(model, 'my_model.keras')`. \n"
     ]
    }
   ],
   "source": [
    "nn.save(\"AlphabetSoupCharity_Optimization.h5\")"
   ]
  }
 ],
 "metadata": {
  "kernelspec": {
   "display_name": "fitenv",
   "language": "python",
   "name": "python3"
  },
  "language_info": {
   "codemirror_mode": {
    "name": "ipython",
    "version": 3
   },
   "file_extension": ".py",
   "mimetype": "text/x-python",
   "name": "python",
   "nbconvert_exporter": "python",
   "pygments_lexer": "ipython3",
   "version": "3.10.15"
  }
 },
 "nbformat": 4,
 "nbformat_minor": 4
}
